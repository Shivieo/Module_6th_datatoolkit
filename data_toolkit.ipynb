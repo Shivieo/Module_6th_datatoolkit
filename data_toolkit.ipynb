{
 "cells": [
  {
   "cell_type": "code",
   "execution_count": null,
   "metadata": {},
   "outputs": [],
   "source": [
    "#Question1.Demonstrate three different methods for creating identical 2D arrays in NumPy. Provide the code for each method and the final output after each method."
   ]
  },
  {
   "cell_type": "code",
   "execution_count": 2,
   "metadata": {},
   "outputs": [
    {
     "name": "stdout",
     "output_type": "stream",
     "text": [
      "[[1 2 3]\n",
      " [4 5 6]]\n",
      "[[1 2 3]\n",
      " [4 5 6]]\n",
      "[[1 2 3]\n",
      " [4 5 6]]\n"
     ]
    }
   ],
   "source": [
    "'''Answer1'''\n",
    "import numpy as np\n",
    "\n",
    "array1 = np.array([[1, 2, 3], [4, 5, 6]])\n",
    "array2 = np.asarray([[1, 2, 3], [4, 5, 6]])\n",
    "array3 = np.asanyarray([[1, 2, 3], [4, 5, 6]])\n",
    "print(array1)\n",
    "print(array2)\n",
    "print(array3)\n"
   ]
  },
  {
   "cell_type": "code",
   "execution_count": 3,
   "metadata": {},
   "outputs": [],
   "source": [
    "#Question2. Using the Numpy function, generate an array of 100 evenly spaced numbers between 1 and 10 and\n",
    "#Reshape that 1D array into a 2D array."
   ]
  },
  {
   "cell_type": "code",
   "execution_count": 4,
   "metadata": {},
   "outputs": [
    {
     "name": "stdout",
     "output_type": "stream",
     "text": [
      "[[ 1.          1.09090909  1.18181818  1.27272727  1.36363636  1.45454545\n",
      "   1.54545455  1.63636364  1.72727273  1.81818182]\n",
      " [ 1.90909091  2.          2.09090909  2.18181818  2.27272727  2.36363636\n",
      "   2.45454545  2.54545455  2.63636364  2.72727273]\n",
      " [ 2.81818182  2.90909091  3.          3.09090909  3.18181818  3.27272727\n",
      "   3.36363636  3.45454545  3.54545455  3.63636364]\n",
      " [ 3.72727273  3.81818182  3.90909091  4.          4.09090909  4.18181818\n",
      "   4.27272727  4.36363636  4.45454545  4.54545455]\n",
      " [ 4.63636364  4.72727273  4.81818182  4.90909091  5.          5.09090909\n",
      "   5.18181818  5.27272727  5.36363636  5.45454545]\n",
      " [ 5.54545455  5.63636364  5.72727273  5.81818182  5.90909091  6.\n",
      "   6.09090909  6.18181818  6.27272727  6.36363636]\n",
      " [ 6.45454545  6.54545455  6.63636364  6.72727273  6.81818182  6.90909091\n",
      "   7.          7.09090909  7.18181818  7.27272727]\n",
      " [ 7.36363636  7.45454545  7.54545455  7.63636364  7.72727273  7.81818182\n",
      "   7.90909091  8.          8.09090909  8.18181818]\n",
      " [ 8.27272727  8.36363636  8.45454545  8.54545455  8.63636364  8.72727273\n",
      "   8.81818182  8.90909091  9.          9.09090909]\n",
      " [ 9.18181818  9.27272727  9.36363636  9.45454545  9.54545455  9.63636364\n",
      "   9.72727273  9.81818182  9.90909091 10.        ]]\n"
     ]
    }
   ],
   "source": [
    "'''Answer2.'''\n",
    "#Generate a 1D array of 100 evenly spaced numbers between 1 and 10\n",
    "array_1d = np.linspace(1, 10, 100)\n",
    "\n",
    "# Reshape the 1D array into a 2D array with 10 rows and 10 columns\n",
    "array_2d = array_1d.reshape(10, 10)\n",
    "\n",
    "print(array_2d)"
   ]
  },
  {
   "cell_type": "code",
   "execution_count": 5,
   "metadata": {},
   "outputs": [],
   "source": [
    "#Question3.Explain the following terms:\n",
    "#The difference in np.array, np.asarray and np.asanyarray.\n",
    "# The difference between Deep copy and shallow copy."
   ]
  },
  {
   "cell_type": "code",
   "execution_count": 6,
   "metadata": {},
   "outputs": [
    {
     "data": {
      "text/plain": [
       "\"Answer 3\\nnp.array, np.asarray, and np.asanyarray\\n\\nThese three functions are used to create NumPy arrays from various input data types. They differ in their behavior and flexibility:\\n\\nnp.array(object, dtype=None, copy=True, order='K', subok=False):\\n\\nThis is the most general function for creating NumPy arrays.\\nIt takes an object as input and converts it to a NumPy array.\\nIt has several optional arguments:\\ndtype: Specifies the desired data type of the array.\\ncopy: Controls whether to create a copy of the input data or reference the original data.\\norder: Specifies the memory layout of the array (C-contiguous or Fortran-contiguous).\\nsubok: Determines whether to preserve the subclass of the input object.\\nnp.asarray(a, dtype=None, order=None):\\n\\nThis function is similar to np.array, but it is more efficient for converting existing NumPy arrays or arrays from other libraries.\\nIt does not have the copy or subok arguments.\\nnp.asanyarray(a, dtype=None, order=None):\\n\\nThis function is even more efficient than np.asarray and tries to avoid creating a copy of the input data if possible.\\nIt is suitable for cases where you are certain that the input data is already a NumPy array or can be converted without copying.\\nDeep Copy vs. Shallow Copy\\n\\nWhen copying NumPy arrays, you can choose between deep copy and shallow copy.\\n\\nDeep Copy:\\n\\nCreates a new array with entirely new data.\\nChanges made to the original array will not affect the copy.\\nUse np.copy() to create a deep copy.\\nShallow Copy:\\n\\nCreates a new array that references the same data as the original array.\\nChanges made to the original array will also affect the copy.\\nUse np.array(original_array, copy=False) to create a shallow copy.\\nChoosing the Right Function\\n\\nThe choice between these functions depends on your specific use case and the nature of your input data. Here are some guidelines:\\n\\nIf you are unsure about the input data type or want to control the memory layout, use np.array.\\nIf you know that the input data is already a NumPy array or from another library, use np.asarray or np.asanyarray for efficiency.\\nIf you need to create a completely independent copy of the array, use a deep copy.\\nIf you want to reference the same data but avoid unnecessary copying, use a shallow copy.\\n\""
      ]
     },
     "execution_count": 6,
     "metadata": {},
     "output_type": "execute_result"
    }
   ],
   "source": [
    "'''Answer 3\n",
    "np.array, np.asarray, and np.asanyarray\n",
    "\n",
    "These three functions are used to create NumPy arrays from various input data types. They differ in their behavior and flexibility:\n",
    "\n",
    "np.array(object, dtype=None, copy=True, order='K', subok=False):\n",
    "\n",
    "This is the most general function for creating NumPy arrays.\n",
    "It takes an object as input and converts it to a NumPy array.\n",
    "It has several optional arguments:\n",
    "dtype: Specifies the desired data type of the array.\n",
    "copy: Controls whether to create a copy of the input data or reference the original data.\n",
    "order: Specifies the memory layout of the array (C-contiguous or Fortran-contiguous).\n",
    "subok: Determines whether to preserve the subclass of the input object.\n",
    "np.asarray(a, dtype=None, order=None):\n",
    "\n",
    "This function is similar to np.array, but it is more efficient for converting existing NumPy arrays or arrays from other libraries.\n",
    "It does not have the copy or subok arguments.\n",
    "np.asanyarray(a, dtype=None, order=None):\n",
    "\n",
    "This function is even more efficient than np.asarray and tries to avoid creating a copy of the input data if possible.\n",
    "It is suitable for cases where you are certain that the input data is already a NumPy array or can be converted without copying.\n",
    "Deep Copy vs. Shallow Copy\n",
    "\n",
    "When copying NumPy arrays, you can choose between deep copy and shallow copy.\n",
    "\n",
    "Deep Copy:\n",
    "\n",
    "Creates a new array with entirely new data.\n",
    "Changes made to the original array will not affect the copy.\n",
    "Use np.copy() to create a deep copy.\n",
    "Shallow Copy:\n",
    "\n",
    "Creates a new array that references the same data as the original array.\n",
    "Changes made to the original array will also affect the copy.\n",
    "Use np.array(original_array, copy=False) to create a shallow copy.\n",
    "Choosing the Right Function\n",
    "\n",
    "The choice between these functions depends on your specific use case and the nature of your input data. Here are some guidelines:\n",
    "\n",
    "If you are unsure about the input data type or want to control the memory layout, use np.array.\n",
    "If you know that the input data is already a NumPy array or from another library, use np.asarray or np.asanyarray for efficiency.\n",
    "If you need to create a completely independent copy of the array, use a deep copy.\n",
    "If you want to reference the same data but avoid unnecessary copying, use a shallow copy.\n",
    "'''"
   ]
  },
  {
   "cell_type": "code",
   "execution_count": 7,
   "metadata": {},
   "outputs": [],
   "source": [
    "#Question4.Generate a 3*3 array with random floating-point numbers between 5 and 20. Then, round each number in the array to 2 decimal places."
   ]
  },
  {
   "cell_type": "code",
   "execution_count": 8,
   "metadata": {},
   "outputs": [
    {
     "name": "stdout",
     "output_type": "stream",
     "text": [
      "[[ 9.21 12.    6.39]\n",
      " [10.48 11.34 11.19]\n",
      " [10.49 18.67 14.3 ]]\n"
     ]
    }
   ],
   "source": [
    "'''Answer4.'''\n",
    "# Generate a 3x3 array with random floating-point numbers between 5 and 20\n",
    "array = np.random.uniform(5, 20, (3, 3))\n",
    "\n",
    "# Round each number to 2 decimal places\n",
    "array_rounded = np.round(array, decimals=2)\n",
    "\n",
    "print(array_rounded)"
   ]
  },
  {
   "cell_type": "code",
   "execution_count": 9,
   "metadata": {},
   "outputs": [],
   "source": [
    "# #Question5.Create a NumPy array with random integers Petween 1 and 10 of shape (5, 6). After creating the array perform the following operations:\n",
    "\n",
    "#  a)Extract all even integers from array.\n",
    "\n",
    "#  b)Extract all odd integers from array."
   ]
  },
  {
   "cell_type": "code",
   "execution_count": 10,
   "metadata": {},
   "outputs": [
    {
     "name": "stdout",
     "output_type": "stream",
     "text": [
      "Array:\n",
      "[[ 9 10  1  9  2  9]\n",
      " [10  4  2  6 10  1]\n",
      " [10 10  5  2 10  9]\n",
      " [ 7 10  5  3  5  8]\n",
      " [ 6  1  8  2  3  1]]\n",
      "\n",
      "Even Integers:\n",
      "[10  2 10  4  2  6 10 10 10  2 10 10  8  6  8  2]\n",
      "\n",
      "Odd Integers:\n",
      "[9 1 9 9 1 5 9 7 5 3 5 1 3 1]\n"
     ]
    }
   ],
   "source": [
    "'''Answer5.'''\n",
    "# Create a NumPy array with random integers between 1 and 10 of shape (5, 6)\n",
    "array = np.random.randint(1, 11, (5, 6))\n",
    "\n",
    "# Extract even integers from the array\n",
    "even_integers = array[array % 2 == 0]\n",
    "\n",
    "# Extract odd integers from the array\n",
    "odd_integers = array[array % 2 != 0]\n",
    "\n",
    "print(\"Array:\")\n",
    "print(array)\n",
    "print(\"\\nEven Integers:\")\n",
    "print(even_integers)\n",
    "print(\"\\nOdd Integers:\")\n",
    "print(odd_integers)"
   ]
  },
  {
   "cell_type": "code",
   "execution_count": 11,
   "metadata": {},
   "outputs": [],
   "source": [
    "#Question6.Create a 3D NumPy array of shape (3, 3, 3) containing random integers between 1 and 10. Perform the following operations:\n",
    "\n",
    "\n",
    "#  a) Find the indices of the maximum values along each depth level (third axis).\n",
    "\n",
    "#  b) Perform element-wise multiplication of between both array."
   ]
  },
  {
   "cell_type": "code",
   "execution_count": 12,
   "metadata": {},
   "outputs": [
    {
     "name": "stdout",
     "output_type": "stream",
     "text": [
      "Original array:\n",
      "[[[ 3  8 10]\n",
      "  [10  3  9]\n",
      "  [ 1  5  1]]\n",
      "\n",
      " [[ 7  7  4]\n",
      "  [ 4  6  5]\n",
      "  [ 6  1  4]]\n",
      "\n",
      " [[ 3  4  6]\n",
      "  [ 3  3  6]\n",
      "  [ 6  3  4]]]\n",
      "\n",
      "Indices of maximum values along each depth level:\n",
      "[[2 0 1]\n",
      " [0 1 0]\n",
      " [2 2 0]]\n",
      "\n",
      "Result of element-wise multiplication:\n",
      "[[[ 6 16 20]\n",
      "  [ 0  0  0]\n",
      "  [ 1  5  1]]\n",
      "\n",
      " [[ 0  0  0]\n",
      "  [ 4  6  5]\n",
      "  [ 0  0  0]]\n",
      "\n",
      " [[ 6  8 12]\n",
      "  [ 6  6 12]\n",
      "  [ 0  0  0]]]\n"
     ]
    }
   ],
   "source": [
    "'''Answer6.'''\n",
    "# Create a 3D NumPy array of shape (3, 3, 3) containing random integers between 1 and 10\n",
    "array = np.random.randint(1, 11, (3, 3, 3))\n",
    "\n",
    "# a) Find the indices of the maximum values along each depth level (third axis)\n",
    "max_indices = np.argmax(array, axis=2)\n",
    "\n",
    "# b) Perform element-wise multiplication of between both array\n",
    "result = array * max_indices[..., np.newaxis]\n",
    "\n",
    "print(\"Original array:\")\n",
    "print(array)\n",
    "print(\"\\nIndices of maximum values along each depth level:\")\n",
    "print(max_indices)\n",
    "print(\"\\nResult of element-wise multiplication:\")\n",
    "print(result)"
   ]
  },
  {
   "cell_type": "code",
   "execution_count": 13,
   "metadata": {},
   "outputs": [],
   "source": [
    "#Question7. Clean and transform the 'Phone' column in the sample dataset to remove non-numeric characters and convert it to a numeric data type. Also display the table attributes and data types of each column."
   ]
  },
  {
   "cell_type": "code",
   "execution_count": 17,
   "metadata": {},
   "outputs": [
    {
     "name": "stdout",
     "output_type": "stream",
     "text": [
      "<class 'pandas.core.frame.DataFrame'>\n",
      "RangeIndex: 1000 entries, 0 to 999\n",
      "Data columns (total 10 columns):\n",
      " #   Column         Non-Null Count  Dtype  \n",
      "---  ------         --------------  -----  \n",
      " 0   Index          1000 non-null   int64  \n",
      " 1   User Id        1000 non-null   object \n",
      " 2   First Name     1000 non-null   object \n",
      " 3   Last Name      1000 non-null   object \n",
      " 4   Gender         1000 non-null   object \n",
      " 5   Email          1000 non-null   object \n",
      " 6   Phone          979 non-null    float64\n",
      " 7   Date of birth  1000 non-null   object \n",
      " 8   Job Title      1000 non-null   object \n",
      " 9   Salary         1000 non-null   int64  \n",
      "dtypes: float64(1), int64(2), object(7)\n",
      "memory usage: 78.3+ KB\n",
      "None\n"
     ]
    }
   ],
   "source": [
    "'''Answer7.'''\n",
    "import pandas as pd\n",
    "df = pd.read_csv('People Data.csv')\n",
    "df['Phone'] = df['Phone'].str.replace(r\"[^\\d]\", \"\", regex=True)\n",
    "df['Phone'] = pd.to_numeric(df['Phone'], errors='coerce')\n",
    "print(df.info())"
   ]
  },
  {
   "cell_type": "code",
   "execution_count": 18,
   "metadata": {},
   "outputs": [],
   "source": [
    "#Question8. Perform the following tasks using people dataset:\n",
    "\n",
    "#  a) Read the 'data.csv' file using pandas, skipping the first 50 rows.\n",
    "\n",
    "#  b) Only read the columns: 'Last Name', ‘Gender’,’Email’,‘Phone’ and ‘Salary’ from the file.\n",
    "\n",
    "#  c) Display the first 10 rows of the filtered dataset.\n",
    "\n",
    "#  d) Extract the ‘Salary’' column as a Series and display its last 5 values."
   ]
  },
  {
   "cell_type": "code",
   "execution_count": 25,
   "metadata": {},
   "outputs": [
    {
     "name": "stdout",
     "output_type": "stream",
     "text": [
      "First 10 rows of filtered data:\n",
      "  Last Name  Gender                          Email               Phone  Salary\n",
      "0   Mahoney    Male            pwarner@example.org        857.139.8239   90000\n",
      "1    Rivers  Female  fergusonkatherine@example.net                 NaN   80000\n",
      "2    Lowery  Female            fhoward@example.org       (599)782-0605   50000\n",
      "3    Hooper    Male          zjohnston@example.com                 NaN   65000\n",
      "4      Rice  Female               elin@example.net  (390)417-1635x3010  100000\n",
      "5  Caldwell    Male          kaitlin13@example.net          8537800927   50000\n",
      "6   Hoffman    Male         jeffharvey@example.com   093.655.7480x7895   60000\n",
      "7  Andersen    Male           alicia33@example.org          4709522945   65000\n",
      "8      Mays    Male             jake50@example.com        013.820.4758   50000\n",
      "9  Mitchell    Male      lanechristina@example.net  (560)903-5068x4985   50000\n",
      "\n",
      "Last 5 values of Salary:\n",
      "995     90000\n",
      "996     50000\n",
      "997     60000\n",
      "998    100000\n",
      "999     90000\n",
      "Name: Salary, dtype: int64\n"
     ]
    }
   ],
   "source": [
    "'''Answer8.'''\n",
    "# a) Read data.csv, skipping the first 50 rows\n",
    "df = pd.read_csv('People Data.csv', skiprows=50)\n",
    "\n",
    "# b) Select specific columns\n",
    "df1 = pd.read_csv(\"People Data.csv\")\n",
    "filtered_df = df1[['Last Name', 'Gender', 'Email', 'Phone', 'Salary']]\n",
    "\n",
    "# c) Display the first 10 rows\n",
    "print(\"First 10 rows of filtered data:\")\n",
    "print(filtered_df.head(10))\n",
    "\n",
    "# d) Extract Salary column as Series and display last 5 values\n",
    "salary_series = filtered_df['Salary']\n",
    "print(\"\\nLast 5 values of Salary:\")\n",
    "print(salary_series.tail(5))"
   ]
  },
  {
   "cell_type": "code",
   "execution_count": 26,
   "metadata": {},
   "outputs": [],
   "source": [
    "#Question9. Filter and select rows from the People_Dataset, where the “Last Name' column contains the name 'Duke', 'Gender' column contains the word Female and ‘Nalary’ should Pe less than 85000."
   ]
  },
  {
   "cell_type": "code",
   "execution_count": 27,
   "metadata": {},
   "outputs": [
    {
     "name": "stdout",
     "output_type": "stream",
     "text": [
      "     Index          User Id First Name Last Name  Gender  \\\n",
      "45      46  99A502C175C4EBd     Olivia      Duke  Female   \n",
      "210    211  DF17975CC0a0373    Katrina      Duke  Female   \n",
      "457    458  dcE1B7DE83c1076      Traci      Duke  Female   \n",
      "729    730  c9b482D7aa3e682     Lonnie      Duke  Female   \n",
      "\n",
      "                        Email                   Phone Date of birth  \\\n",
      "45        diana26@example.net  001-366-475-8607x04350    13-10-1934   \n",
      "210       robin78@example.com            740.434.0212    21-09-1935   \n",
      "457  perryhoffman@example.org     +1-903-596-0995x489    11-02-1997   \n",
      "729   kevinkramer@example.net            982.692.6257    12-05-2015   \n",
      "\n",
      "           Job Title  Salary  \n",
      "45           Dentist   60000  \n",
      "210  Producer, radio   50000  \n",
      "457        Herbalist   50000  \n",
      "729     Nurse, adult   70000  \n"
     ]
    }
   ],
   "source": [
    "'''Answer9.'''\n",
    "df = pd.read_csv(\"People Data.csv\")\n",
    "filtered_df = df[(df['Last Name'] == 'Duke') & (df['Gender'] == 'Female') & (df['Salary'] < 85000)]\n",
    "print(filtered_df)"
   ]
  },
  {
   "cell_type": "code",
   "execution_count": 28,
   "metadata": {},
   "outputs": [],
   "source": [
    "#Question 10. Create a 7*5 Dataframe in Pandas using a series generated from 35 random integers between 1 to 6?"
   ]
  },
  {
   "cell_type": "code",
   "execution_count": 29,
   "metadata": {},
   "outputs": [
    {
     "name": "stdout",
     "output_type": "stream",
     "text": [
      "   0  1  2  3  4\n",
      "0  1  6  5  1  3\n",
      "1  4  1  1  2  1\n",
      "2  3  1  6  2  1\n",
      "3  2  3  1  5  3\n",
      "4  2  1  2  5  6\n",
      "5  6  6  4  2  3\n",
      "6  1  5  4  1  2\n"
     ]
    }
   ],
   "source": [
    "'''Answer.10'''\n",
    "# Generate a Series with 35 random integers between 1 and 6\n",
    "series = pd.Series(np.random.randint(1, 7, 35))\n",
    "\n",
    "# Create a DataFrame with 7 rows and 5 columns using the Series\n",
    "df = pd.DataFrame(series.values.reshape(7, 5))\n",
    "\n",
    "print(df)"
   ]
  },
  {
   "cell_type": "code",
   "execution_count": 30,
   "metadata": {},
   "outputs": [],
   "source": [
    "#Question11. Create two different Series, each of length 50, with the following criteria:\n",
    "\n",
    "# a) The first Series should contain random numbers ranging from 10 to 50.\n",
    "\n",
    "# b) The second Series should contain random numbers ranging from 100 to 1000.\n",
    "\n",
    "# c) Create a DataFrame by 'oining these Series by column, and, change the names of the columns to 'col1', 'col2', etc..."
   ]
  },
  {
   "cell_type": "code",
   "execution_count": 31,
   "metadata": {},
   "outputs": [
    {
     "name": "stdout",
     "output_type": "stream",
     "text": [
      "    col1  col2\n",
      "0     23   178\n",
      "1     35   594\n",
      "2     38   698\n",
      "3     42   653\n",
      "4     39   672\n",
      "5     24   230\n",
      "6     17   337\n",
      "7     46   980\n",
      "8     27   862\n",
      "9     34   334\n",
      "10    39   626\n",
      "11    10   895\n",
      "12    15   227\n",
      "13    18   830\n",
      "14    31   202\n",
      "15    36   168\n",
      "16    25   852\n",
      "17    50   511\n",
      "18    31   286\n",
      "19    45   362\n",
      "20    34   621\n",
      "21    38   580\n",
      "22    16   977\n",
      "23    20   291\n",
      "24    23   744\n",
      "25    19   448\n",
      "26    12   225\n",
      "27    33   495\n",
      "28    36   184\n",
      "29    13   508\n",
      "30    17   393\n",
      "31    18   286\n",
      "32    10   137\n",
      "33    31   604\n",
      "34    15   588\n",
      "35    23   557\n",
      "36    17   722\n",
      "37    29   788\n",
      "38    30   100\n",
      "39    34   471\n",
      "40    27   816\n",
      "41    21   101\n",
      "42    16   200\n",
      "43    50   946\n",
      "44    49   823\n",
      "45    45   534\n",
      "46    50   475\n",
      "47    29   604\n",
      "48    38   147\n",
      "49    31   528\n"
     ]
    }
   ],
   "source": [
    "'''Answer11.'''\n",
    "# a) Create the first Series with random numbers from 10 to 50\n",
    "series1 = pd.Series(np.random.randint(10, 51, 50))\n",
    "\n",
    "# b) Create the second Series with random numbers from 100 to 1000\n",
    "series2 = pd.Series(np.random.randint(100, 1001, 50))\n",
    "\n",
    "# c) Create a DataFrame by joining the Series by column and changing column names\n",
    "df = pd.concat([series1, series2], axis=1)\n",
    "df.columns = ['col1', 'col2']\n",
    "\n",
    "print(df)"
   ]
  },
  {
   "cell_type": "code",
   "execution_count": null,
   "metadata": {},
   "outputs": [],
   "source": [
    "#Question12.  Perform the following operations using people data set:\n",
    "\n",
    "# a) Delete the 'Email', 'Phone', and 'Date of birth' columns from the dataset.\n",
    "\n",
    "# b) Delete the rows containing any missing values.\n",
    "\n",
    "# d) Print the final output also."
   ]
  },
  {
   "cell_type": "code",
   "execution_count": 1,
   "metadata": {},
   "outputs": [
    {
     "name": "stdout",
     "output_type": "stream",
     "text": [
      "     Index          User Id First Name Last Name  Gender  \\\n",
      "0        1  8717bbf45cCDbEe     Shelia   Mahoney    Male   \n",
      "1        2  3d5AD30A4cD38ed         Jo    Rivers  Female   \n",
      "2        3  810Ce0F276Badec     Sheryl    Lowery  Female   \n",
      "3        4  BF2a889C00f0cE1    Whitney    Hooper    Male   \n",
      "4        5  9afFEafAe1CBBB9    Lindsey      Rice  Female   \n",
      "..     ...              ...        ...       ...     ...   \n",
      "995    996  fedF4c7Fd9e7cFa       Kurt    Bryant  Female   \n",
      "996    997  ECddaFEDdEc4FAB      Donna     Barry  Female   \n",
      "997    998  2adde51d8B8979E      Cathy  Mckinney  Female   \n",
      "998    999  Fb2FE369D1E171A   Jermaine    Phelps    Male   \n",
      "999   1000  8b756f6231DDC6e        Lee      Tran  Female   \n",
      "\n",
      "                           Job Title  Salary  \n",
      "0                  Probation officer   90000  \n",
      "1                             Dancer   80000  \n",
      "2                               Copy   50000  \n",
      "3           Counselling psychologist   65000  \n",
      "4                Biomedical engineer  100000  \n",
      "..                               ...     ...  \n",
      "995                Personnel officer   90000  \n",
      "996          Education administrator   50000  \n",
      "997  Commercial/residential surveyor   60000  \n",
      "998                 Ambulance person  100000  \n",
      "999       Nurse, learning disability   90000  \n",
      "\n",
      "[1000 rows x 7 columns]\n"
     ]
    }
   ],
   "source": [
    "'''Answer 12.'''\n",
    "import pandas as pd\n",
    "\n",
    "# Load the dataset\n",
    "df = pd.read_csv('People Data.csv')\n",
    "\n",
    "# a) Delete the 'Email', 'Phone', and 'Date of birth' columns\n",
    "df = df.drop(columns=['Email', 'Phone', 'Date of birth'])\n",
    "\n",
    "# b) Delete rows containing missing values\n",
    "df = df.dropna()\n",
    "\n",
    "# Print the final output\n",
    "print(df)"
   ]
  },
  {
   "cell_type": "code",
   "execution_count": null,
   "metadata": {},
   "outputs": [],
   "source": [
    "#Question13. Create two NumPy arrays, x and y, each containing 100 random float values between 0 and 1. Perform the\n",
    "# following tasks using Matplotlib and NumPy:\n",
    "\n",
    "# a) Create a scatter plot using x and y, setting the color of the points to red and the marker style to 'o'.\n",
    "\n",
    "# b) Add a horizontal line at y = 0.5 using a dashed line style and label it as 'y = 0.5'.\n",
    "\n",
    "# c) Add a vertical line at x = 0.5 using a dotted line style and label it as 'x = 0.5'.\n",
    "\n",
    "# d) Label the x-axis as 'X-axis' and the y-axis as 'Y-axis'.\n",
    "\n",
    "# e) Set the title of the plot as 'Advanced Scatter Plot of Random Values'.\n",
    "\n",
    "# f) Display a legend for the scatter plot, the horizontal line, and the vertical line."
   ]
  },
  {
   "cell_type": "code",
   "execution_count": null,
   "metadata": {},
   "outputs": [],
   "source": [
    "'''Answer 13.'''\n",
    "import numpy as np\n",
    "import matplotlib.pyplot as plt\n",
    "\n",
    "# Create two NumPy arrays with random float values between 0 and 1\n",
    "x = np.random.rand(100)\n",
    "y = np.random.rand(100)\n",
    "\n",
    "# Create a scatter plot\n",
    "plt.scatter(x, y, color='red', marker='o', label='Data Points')\n",
    "\n",
    "# Add a horizontal line at y = 0.5\n",
    "plt.axhline(y=0.5, color='green', linestyle='--', label='y = 0.5')\n",
    "\n",
    "# Add a vertical line at x = 0.5\n",
    "plt.axvline(x=0.5, color='blue', linestyle=':', label='x = 0.5')\n",
    "\n",
    "# Set labels and title\n",
    "plt.xlabel('X-axis')\n",
    "plt.ylabel('Y-axis')\n",
    "plt.title('Advanced Scatter Plot of Random Values')\n",
    "\n",
    "# Show the legend\n",
    "plt.legend()\n",
    "\n",
    "# Display the plot\n",
    "plt.show()"
   ]
  },
  {
   "cell_type": "code",
   "execution_count": null,
   "metadata": {},
   "outputs": [],
   "source": [
    "#Question14. Create a time-series dataset in a Pandas DataFrame with columns: 'Date', 'Temperature', 'Humidity' and Perform the following tasks using Matplotlib:\n",
    "# a) Plot the 'Temperature' and 'Humidity' on the same plot with different y-axes (left y-axis for 'Temperature' and\n",
    "# right y-axis for 'Humidity').\n",
    "\n",
    "# b) Label the x-axis as 'Date'.\n",
    "\n",
    "# c) Set the title of the plot as 'Temperature and Humidity Over Time'."
   ]
  },
  {
   "cell_type": "code",
   "execution_count": null,
   "metadata": {},
   "outputs": [],
   "source": [
    "'''Answer14'''\n",
    "import pandas as pd\n",
    "import matplotlib.pyplot as plt\n",
    "\n",
    "# Create a time-series DataFrame\n",
    "dates = pd.date_range(start='2023-01-01', periods=365)\n",
    "temperature = np.random.randint(20, 40, size=365)\n",
    "humidity = np.random.randint(50, 90, size=365)\n",
    "\n",
    "df = pd.DataFrame({'Date': dates, 'Temperature': temperature, 'Humidity': humidity})\n",
    "\n",
    "# Create a figure with two subplots\n",
    "fig, ax1 = plt.subplots()\n",
    "\n",
    "# Plot 'Temperature' on the left y-axis\n",
    "ax1.plot(df['Date'], df['Temperature'], color='blue', label='Temperature')\n",
    "ax1.set_xlabel('Date')\n",
    "ax1.set_ylabel('Temperature (Celsius)', color='blue')\n",
    "\n",
    "# Create a second axis for 'Humidity'\n",
    "ax2 = ax1.twinx()\n",
    "\n",
    "# Plot 'Humidity' on the right y-axis\n",
    "ax2.plot(df['Date'], df['Humidity'], color='red', label='Humidity')\n",
    "ax2.set_ylabel('Humidity (%)', color='red')\n",
    "\n",
    "# Set the title\n",
    "plt.title('Temperature and Humidity Over Time')\n",
    "\n",
    "# Show the legend\n",
    "plt.legend()\n",
    "\n",
    "# Display the plot\n",
    "plt.tight_layout()\n",
    "plt.show()"
   ]
  },
  {
   "cell_type": "code",
   "execution_count": null,
   "metadata": {},
   "outputs": [],
   "source": [
    "#Question15. Create a NumPy array data containing 1000 samples from a normal distribution. Perform the following tasks using Matplotlib:\n",
    "# a) Plot a histogram of the data with 30 bins.\n",
    "\n",
    "# b) Overlay a line plot representing the normal distribution's probability density function (PDF).\n",
    "\n",
    "# c) Label the x-axis as 'Value' and the y-axis as 'Frequency/Probability'.\n",
    "\n",
    "# d) Set the title of the plot as 'Histogram with PDF Overlay'."
   ]
  },
  {
   "cell_type": "code",
   "execution_count": 3,
   "metadata": {},
   "outputs": [
    {
     "name": "stdout",
     "output_type": "stream",
     "text": [
      "Collecting scipy\n",
      "  Downloading scipy-1.14.1-cp312-cp312-win_amd64.whl.metadata (60 kB)\n",
      "Requirement already satisfied: numpy<2.3,>=1.23.5 in c:\\users\\pc\\appdata\\local\\programs\\python\\python312\\lib\\site-packages (from scipy) (2.1.1)\n",
      "Downloading scipy-1.14.1-cp312-cp312-win_amd64.whl (44.5 MB)\n",
      "   ---------------------------------------- 0.0/44.5 MB ? eta -:--:--\n",
      "   ---------------------------------------- 0.3/44.5 MB ? eta -:--:--\n",
      "   ---------------------------------------- 0.3/44.5 MB ? eta -:--:--\n",
      "   ---------------------------------------- 0.5/44.5 MB 645.7 kB/s eta 0:01:09\n",
      "    --------------------------------------- 0.8/44.5 MB 884.1 kB/s eta 0:00:50\n",
      "   - -------------------------------------- 1.3/44.5 MB 1.2 MB/s eta 0:00:35\n",
      "   - -------------------------------------- 1.8/44.5 MB 1.4 MB/s eta 0:00:30\n",
      "   - -------------------------------------- 2.1/44.5 MB 1.5 MB/s eta 0:00:29\n",
      "   -- ------------------------------------- 2.4/44.5 MB 1.4 MB/s eta 0:00:30\n",
      "   -- ------------------------------------- 3.1/44.5 MB 1.6 MB/s eta 0:00:26\n",
      "   --- ------------------------------------ 3.4/44.5 MB 1.7 MB/s eta 0:00:25\n",
      "   --- ------------------------------------ 3.9/44.5 MB 1.7 MB/s eta 0:00:25\n",
      "   --- ------------------------------------ 4.2/44.5 MB 1.6 MB/s eta 0:00:26\n",
      "   ---- ----------------------------------- 5.0/44.5 MB 1.7 MB/s eta 0:00:23\n",
      "   ----- ---------------------------------- 5.8/44.5 MB 1.9 MB/s eta 0:00:21\n",
      "   ----- ---------------------------------- 6.3/44.5 MB 1.9 MB/s eta 0:00:21\n",
      "   ------ --------------------------------- 7.1/44.5 MB 2.0 MB/s eta 0:00:19\n",
      "   ------- -------------------------------- 7.9/44.5 MB 2.1 MB/s eta 0:00:18\n",
      "   -------- ------------------------------- 8.9/44.5 MB 2.2 MB/s eta 0:00:17\n",
      "   -------- ------------------------------- 10.0/44.5 MB 2.3 MB/s eta 0:00:15\n",
      "   --------- ------------------------------ 10.7/44.5 MB 2.4 MB/s eta 0:00:14\n",
      "   ---------- ----------------------------- 11.5/44.5 MB 2.5 MB/s eta 0:00:14\n",
      "   ---------- ----------------------------- 11.8/44.5 MB 2.4 MB/s eta 0:00:14\n",
      "   ---------- ----------------------------- 11.8/44.5 MB 2.4 MB/s eta 0:00:14\n",
      "   ----------- ---------------------------- 12.3/44.5 MB 2.3 MB/s eta 0:00:15\n",
      "   ----------- ---------------------------- 12.6/44.5 MB 2.2 MB/s eta 0:00:15\n",
      "   ----------- ---------------------------- 13.1/44.5 MB 2.2 MB/s eta 0:00:15\n",
      "   ------------ --------------------------- 13.6/44.5 MB 2.2 MB/s eta 0:00:15\n",
      "   ------------ --------------------------- 14.4/44.5 MB 2.3 MB/s eta 0:00:14\n",
      "   ------------- -------------------------- 15.2/44.5 MB 2.3 MB/s eta 0:00:13\n",
      "   -------------- ------------------------- 16.0/44.5 MB 2.3 MB/s eta 0:00:13\n",
      "   -------------- ------------------------- 16.5/44.5 MB 2.3 MB/s eta 0:00:13\n",
      "   --------------- ------------------------ 17.6/44.5 MB 2.4 MB/s eta 0:00:12\n",
      "   ---------------- ----------------------- 18.6/44.5 MB 2.5 MB/s eta 0:00:11\n",
      "   ---------------- ----------------------- 18.6/44.5 MB 2.5 MB/s eta 0:00:11\n",
      "   ----------------- ---------------------- 19.1/44.5 MB 2.4 MB/s eta 0:00:11\n",
      "   ----------------- ---------------------- 19.4/44.5 MB 2.4 MB/s eta 0:00:11\n",
      "   ----------------- ---------------------- 19.9/44.5 MB 2.4 MB/s eta 0:00:11\n",
      "   ------------------ --------------------- 20.4/44.5 MB 2.4 MB/s eta 0:00:11\n",
      "   ------------------- -------------------- 21.5/44.5 MB 2.4 MB/s eta 0:00:10\n",
      "   -------------------- ------------------- 22.3/44.5 MB 2.5 MB/s eta 0:00:09\n",
      "   -------------------- ------------------- 23.1/44.5 MB 2.5 MB/s eta 0:00:09\n",
      "   --------------------- ------------------ 23.6/44.5 MB 2.5 MB/s eta 0:00:09\n",
      "   --------------------- ------------------ 24.4/44.5 MB 2.5 MB/s eta 0:00:08\n",
      "   ---------------------- ----------------- 24.9/44.5 MB 2.5 MB/s eta 0:00:08\n",
      "   ---------------------- ----------------- 25.4/44.5 MB 2.5 MB/s eta 0:00:08\n",
      "   ----------------------- ---------------- 26.0/44.5 MB 2.5 MB/s eta 0:00:08\n",
      "   ----------------------- ---------------- 26.5/44.5 MB 2.5 MB/s eta 0:00:08\n",
      "   ------------------------ --------------- 27.5/44.5 MB 2.6 MB/s eta 0:00:07\n",
      "   ------------------------- -------------- 28.0/44.5 MB 2.6 MB/s eta 0:00:07\n",
      "   ------------------------- -------------- 28.6/44.5 MB 2.5 MB/s eta 0:00:07\n",
      "   -------------------------- ------------- 29.1/44.5 MB 2.6 MB/s eta 0:00:07\n",
      "   -------------------------- ------------- 29.9/44.5 MB 2.6 MB/s eta 0:00:06\n",
      "   --------------------------- ------------ 30.7/44.5 MB 2.6 MB/s eta 0:00:06\n",
      "   ---------------------------- ----------- 31.7/44.5 MB 2.6 MB/s eta 0:00:05\n",
      "   ----------------------------- ---------- 32.5/44.5 MB 2.6 MB/s eta 0:00:05\n",
      "   ----------------------------- ---------- 32.8/44.5 MB 2.6 MB/s eta 0:00:05\n",
      "   ----------------------------- ---------- 33.0/44.5 MB 2.6 MB/s eta 0:00:05\n",
      "   ----------------------------- ---------- 33.3/44.5 MB 2.6 MB/s eta 0:00:05\n",
      "   ------------------------------ --------- 33.8/44.5 MB 2.6 MB/s eta 0:00:05\n",
      "   ------------------------------ --------- 34.3/44.5 MB 2.6 MB/s eta 0:00:04\n",
      "   ------------------------------- -------- 34.6/44.5 MB 2.5 MB/s eta 0:00:04\n",
      "   ------------------------------- -------- 34.9/44.5 MB 2.5 MB/s eta 0:00:04\n",
      "   ------------------------------- -------- 35.1/44.5 MB 2.5 MB/s eta 0:00:04\n",
      "   ------------------------------- -------- 35.4/44.5 MB 2.5 MB/s eta 0:00:04\n",
      "   -------------------------------- ------- 36.2/44.5 MB 2.5 MB/s eta 0:00:04\n",
      "   -------------------------------- ------- 36.4/44.5 MB 2.5 MB/s eta 0:00:04\n",
      "   -------------------------------- ------- 36.7/44.5 MB 2.5 MB/s eta 0:00:04\n",
      "   --------------------------------- ------ 37.5/44.5 MB 2.5 MB/s eta 0:00:03\n",
      "   ---------------------------------- ----- 38.0/44.5 MB 2.5 MB/s eta 0:00:03\n",
      "   ---------------------------------- ----- 38.3/44.5 MB 2.5 MB/s eta 0:00:03\n",
      "   ---------------------------------- ----- 38.8/44.5 MB 2.5 MB/s eta 0:00:03\n",
      "   ----------------------------------- ---- 39.3/44.5 MB 2.5 MB/s eta 0:00:03\n",
      "   ----------------------------------- ---- 39.6/44.5 MB 2.5 MB/s eta 0:00:03\n",
      "   ------------------------------------ --- 40.1/44.5 MB 2.4 MB/s eta 0:00:02\n",
      "   ------------------------------------ --- 40.4/44.5 MB 2.4 MB/s eta 0:00:02\n",
      "   ------------------------------------- -- 41.4/44.5 MB 2.5 MB/s eta 0:00:02\n",
      "   ------------------------------------- -- 42.2/44.5 MB 2.5 MB/s eta 0:00:01\n",
      "   -------------------------------------- - 43.3/44.5 MB 2.5 MB/s eta 0:00:01\n",
      "   ---------------------------------------  43.8/44.5 MB 2.5 MB/s eta 0:00:01\n",
      "   ---------------------------------------  44.0/44.5 MB 2.5 MB/s eta 0:00:01\n",
      "   ---------------------------------------  44.3/44.5 MB 2.5 MB/s eta 0:00:01\n",
      "   ---------------------------------------  44.3/44.5 MB 2.5 MB/s eta 0:00:01\n",
      "   ---------------------------------------  44.3/44.5 MB 2.5 MB/s eta 0:00:01\n",
      "   ---------------------------------------  44.3/44.5 MB 2.5 MB/s eta 0:00:01\n",
      "   ---------------------------------------- 44.5/44.5 MB 2.4 MB/s eta 0:00:00\n",
      "Installing collected packages: scipy\n",
      "Successfully installed scipy-1.14.1\n",
      "Note: you may need to restart the kernel to use updated packages.\n"
     ]
    }
   ],
   "source": [
    "pip install scipy"
   ]
  },
  {
   "cell_type": "code",
   "execution_count": null,
   "metadata": {},
   "outputs": [],
   "source": [
    "'''Answer15.'''\n",
    "import numpy as np\n",
    "import matplotlib.pyplot as plt\n",
    "from scipy.stats import norm\n",
    "\n",
    "# Create a NumPy array with 1000 samples from a normal distribution\n",
    "data = np.random.normal(loc=0, scale=1, size=1000)\n",
    "\n",
    "# Create a histogram with 30 bins\n",
    "plt.hist(data, bins=30, density=True, alpha=0.6, label='Histogram')\n",
    "\n",
    "# Calculate the mean and standard deviation of the data\n",
    "mean, std = np.mean(data), np.std(data)\n",
    "\n",
    "# Create an array of x values for the PDF\n",
    "x = np.linspace(min(data), max(data), 100)\n",
    "\n",
    "# Calculate the PDF values\n",
    "pdf = norm.pdf(x, loc=mean, scale=std)\n",
    "\n",
    "# Plot the PDF as a line\n",
    "plt.plot(x, pdf, color='red', label='PDF')\n",
    "\n",
    "# Set labels and title\n",
    "plt.xlabel('Value')\n",
    "plt.ylabel('Frequency/Probability')\n",
    "plt.title('Histogram with PDF Overlay')\n",
    "\n",
    "# Show the legend\n",
    "plt.legend()\n",
    "\n",
    "# Display the plot\n",
    "plt.show()"
   ]
  },
  {
   "cell_type": "code",
   "execution_count": null,
   "metadata": {},
   "outputs": [],
   "source": [
    "#Question16. Set the title of the plot as 'Histogram with PDF Overlay'."
   ]
  },
  {
   "cell_type": "code",
   "execution_count": null,
   "metadata": {},
   "outputs": [],
   "source": [
    "'''Answer16.'''\n",
    "import numpy as np\n",
    "import matplotlib.pyplot as plt\n",
    "from scipy.stats import norm\n",
    "\n",
    "# Create a NumPy array with 1000 samples from a normal distribution\n",
    "data = np.random.normal(loc=0, scale=1, size=1000)\n",
    "\n",
    "# Create a histogram with 30 bins\n",
    "plt.hist(data, bins=30, density=True, alpha=0.6, label='Histogram')\n",
    "\n",
    "# Calculate the mean and standard deviation of the data\n",
    "mean, std = np.mean(data), np.std(data)\n",
    "\n",
    "# Create an array of x values for the PDF\n",
    "x = np.linspace(min(data), max(data), 100)\n",
    "\n",
    "# Calculate the PDF values\n",
    "pdf = norm.pdf(x, loc=mean, scale=std)\n",
    "\n",
    "# Plot the PDF as a line\n",
    "plt.plot(x, pdf, color='red', label='PDF')\n",
    "\n",
    "# Set labels and title\n",
    "plt.xlabel('Value')\n",
    "plt.ylabel('Frequency/Probability')\n",
    "plt.title('Histogram with PDF Overlay')\n",
    "\n",
    "# Show the legend\n",
    "plt.legend()\n",
    "\n",
    "# Display the plot\n",
    "plt.show()"
   ]
  },
  {
   "cell_type": "code",
   "execution_count": null,
   "metadata": {},
   "outputs": [],
   "source": [
    "#Question17. Create a Seaborn scatter plot of two random arrays, color points based on their position relative to the origin (quadrants), add a legend, label the axes, and set the title as 'Quadrant-wise Scatter Plot'."
   ]
  },
  {
   "cell_type": "code",
   "execution_count": null,
   "metadata": {},
   "outputs": [],
   "source": [
    "'''Answer17.'''\n",
    "import numpy as np\n",
    "import seaborn as sns\n",
    "import matplotlib.pyplot as plt\n",
    "\n",
    "# Generate two random arrays\n",
    "x = np.random.randn(1000)\n",
    "y = np.random.randn(1000)\n",
    "\n",
    "# Create a DataFrame with x and y values\n",
    "df = pd.DataFrame({'x': x, 'y': y})\n",
    "\n",
    "# Determine the quadrant for each point\n",
    "df['quadrant'] = np.where(df['x'] >= 0,\n",
    "                         np.where(df['y'] >= 0, 'I', 'IV'),\n",
    "                         np.where(df['y'] >= 0, 'II', 'III'))\n",
    "\n",
    "# Create a scatter plot with points colored by quadrant\n",
    "sns.scatterplot(data=df, x='x', y='y', hue='quadrant', palette='colorblind')\n",
    "\n",
    "# Add a legend\n",
    "plt.legend(title='Quadrant')\n",
    "\n",
    "# Label the axes\n",
    "plt.xlabel('X-axis')\n",
    "plt.ylabel('Y-axis')\n",
    "\n",
    "# Set the title\n",
    "plt.title('Quadrant-wise Scatter Plot')\n",
    "\n",
    "# Display the plot\n",
    "plt.show()"
   ]
  },
  {
   "cell_type": "code",
   "execution_count": null,
   "metadata": {},
   "outputs": [],
   "source": [
    "#Question18. With Bokeh, plot a line chart of a sine wave function, add grid lines, label the axes, and set the title as 'Sine Wave Function'."
   ]
  },
  {
   "cell_type": "code",
   "execution_count": null,
   "metadata": {},
   "outputs": [],
   "source": [
    "'''Answer18.'''\n",
    "import numpy as np\n",
    "from bokeh.plotting import figure, output_file, show\n",
    "\n",
    "# Generate x and y values for the sine wave\n",
    "x = np.linspace(0, 2 * np.pi, 1000)\n",
    "y = np.sin(x)\n",
    "\n",
    "# Create a Bokeh figure\n",
    "p = figure(title='Sine Wave Function', x_axis_label='x', y_axis_label='y')\n",
    "\n",
    "# Add a line plot of the sine wave\n",
    "p.line(x, y, color='blue', line_width=2)\n",
    "\n",
    "# Add grid lines\n",
    "p.grid(grid_line_color='gray', grid_line_alpha=0.2)\n",
    "\n",
    "# Show the plot\n",
    "show(p)"
   ]
  },
  {
   "cell_type": "code",
   "execution_count": null,
   "metadata": {},
   "outputs": [],
   "source": [
    "#Question19. Using Bokeh, generate a bar chart of randomly generated categorical data, color bars based on their values, add hover tooltips to display exact values, label the axes, and set the title as 'Random Categorical Bar Chart'."
   ]
  },
  {
   "cell_type": "code",
   "execution_count": null,
   "metadata": {},
   "outputs": [],
   "source": [
    "'''Answer19.'''\n",
    "import numpy as np\n",
    "import pandas as pd\n",
    "from bokeh.plotting import figure, output_file, show\n",
    "from bokeh.models import HoverTool\n",
    "\n",
    "# Generate random categorical data\n",
    "categories = ['A', 'B', 'C', 'D', 'E']\n",
    "values = np.random.randint(10, 30, size=5)\n",
    "\n",
    "# Create a DataFrame\n",
    "df = pd.DataFrame({'Category': categories, 'Value': values})\n",
    "\n",
    "# Create a Bokeh figure\n",
    "p = figure(title='Random Categorical Bar Chart', x_axis_label='Category', y_axis_label='Value')\n",
    "\n",
    "# Create a bar chart with color based on values\n",
    "p.vbar(x=df['Category'], top=df['Value'], width=0.5, color='Viridis256', alpha=0.8)\n",
    "\n",
    "# Add hover tooltips to display exact values\n",
    "hover = HoverTool(tooltips=[('Category', '@Category'), ('Value', '@Value')])\n",
    "p.add_tools(hover)\n",
    "\n",
    "# Show the plot\n",
    "show(p)"
   ]
  },
  {
   "cell_type": "code",
   "execution_count": null,
   "metadata": {},
   "outputs": [],
   "source": [
    "#Question20. Using Plotly, create a basic line plot of a randomly generated dataset, label the axes, and set the title as 'Simple Line Plot'."
   ]
  },
  {
   "cell_type": "code",
   "execution_count": null,
   "metadata": {},
   "outputs": [],
   "source": [
    "'''Answer20.'''\n",
    "import plotly.graph_objects as go\n",
    "import numpy as np\n",
    "\n",
    "# Generate random data\n",
    "x = np.linspace(0, 10, 100)\n",
    "y = np.random.randn(100)\n",
    "\n",
    "# Create a figure\n",
    "fig = go.Figure()\n",
    "\n",
    "# Add a trace\n",
    "fig.add_trace(go.Scatter(x=x, y=y, mode='lines'))\n",
    "\n",
    "# Set title and labels\n",
    "fig.update_layout(title='Simple Line Plot', xaxis_title='X-axis', yaxis_title='Y-axis')\n",
    "\n",
    "# Show the plot\n",
    "fig.show()"
   ]
  },
  {
   "cell_type": "code",
   "execution_count": null,
   "metadata": {},
   "outputs": [],
   "source": [
    "#Question21. Using Plotly, create an interactive pie chart of randomly generated data, add labels and percentages, set the title as 'Interactive Pie Chart'."
   ]
  },
  {
   "cell_type": "code",
   "execution_count": null,
   "metadata": {},
   "outputs": [],
   "source": [
    "'''Answer21.'''\n",
    "import plotly.graph_objects as go\n",
    "import numpy as np\n",
    "\n",
    "# Generate random data\n",
    "labels = ['A', 'B', 'C', 'D', 'E']\n",
    "values = np.random.randint(10, 30, size=5)\n",
    "\n",
    "# Create a figure\n",
    "fig = go.Figure(data=[go.Pie(labels=labels, values=values)])\n",
    "\n",
    "# Set title and labels\n",
    "fig.update_layout(title='Interactive Pie Chart')\n",
    "\n",
    "# Show the plot\n",
    "fig.show()"
   ]
  }
 ],
 "metadata": {
  "kernelspec": {
   "display_name": "Python 3",
   "language": "python",
   "name": "python3"
  },
  "language_info": {
   "codemirror_mode": {
    "name": "ipython",
    "version": 3
   },
   "file_extension": ".py",
   "mimetype": "text/x-python",
   "name": "python",
   "nbconvert_exporter": "python",
   "pygments_lexer": "ipython3",
   "version": "3.12.5"
  }
 },
 "nbformat": 4,
 "nbformat_minor": 2
}
